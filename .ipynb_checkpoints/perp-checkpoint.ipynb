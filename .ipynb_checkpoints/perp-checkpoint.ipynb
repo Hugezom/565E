{
 "cells": [
  {
   "cell_type": "code",
   "execution_count": 1,
   "id": "eb38a798",
   "metadata": {
    "ExecuteTime": {
     "end_time": "2021-10-15T14:19:36.110879Z",
     "start_time": "2021-10-15T14:19:35.941017Z"
    }
   },
   "outputs": [],
   "source": [
    "import gc\n",
    "import re\n",
    "import time\n",
    "import json\n",
    "import pymongo\n",
    "import numpy as np\n",
    "import pandas as pd"
   ]
  },
  {
   "cell_type": "code",
   "execution_count": null,
   "id": "a6e2fa9b",
   "metadata": {
    "ExecuteTime": {
     "end_time": "2021-10-14T09:04:19.801484Z",
     "start_time": "2021-10-14T09:04:19.376236Z"
    }
   },
   "outputs": [],
   "source": [
    "mongo_client = pymongo.MongoClient('dds-j6c504a39ac4fcc42259-pub.mongodb.rds.aliyuncs.com', 3717)\n",
    "mongo_auth = mongo_client.monitoring\n",
    "mongo_auth.authenticate('monitoringuser', 'passwordqwe')\n",
    "db = mongo_client['monitoring']"
   ]
  },
  {
   "cell_type": "code",
   "execution_count": null,
   "id": "81374bd7",
   "metadata": {
    "ExecuteTime": {
     "end_time": "2021-10-14T09:07:08.664169Z",
     "start_time": "2021-10-14T09:04:20.294472Z"
    }
   },
   "outputs": [],
   "source": [
    "_all_blocks = db['all_heco_blocks']\n",
    "_all_blocks = _all_blocks.find({\"blockNumber\":{\"$lt\":8589810}}).sort('blockNumber', -1).limit(25000)\n",
    "#_all_blocks = _all_blocks.find({\"blockNumber\":{\"$lt\":8614810}}).sort('blockNumber', -1).limit(25000)\n",
    "all_blocks = []\n",
    "for block in _all_blocks:\n",
    "    block.pop(\"_id\")\n",
    "    all_blocks.append(block)"
   ]
  },
  {
   "cell_type": "code",
   "execution_count": 6,
   "id": "f3a9f493",
   "metadata": {
    "ExecuteTime": {
     "end_time": "2021-10-14T09:23:59.726023Z",
     "start_time": "2021-10-14T09:23:48.422179Z"
    },
    "scrolled": true
   },
   "outputs": [],
   "source": [
    "with open(\"blocks_2.json\", \"w\") as f:\n",
    "    f.write(json.dumps(all_blocks))"
   ]
  },
  {
   "cell_type": "code",
   "execution_count": null,
   "id": "2bd1b4c0",
   "metadata": {},
   "outputs": [],
   "source": []
  },
  {
   "cell_type": "code",
   "execution_count": 2,
   "id": "f53a4381",
   "metadata": {
    "ExecuteTime": {
     "end_time": "2021-10-14T09:50:22.740314Z",
     "start_time": "2021-10-14T09:49:23.505133Z"
    }
   },
   "outputs": [],
   "source": [
    "with open(\"blocks_0.json\") as f:\n",
    "    all_blocks = json.load(f)"
   ]
  },
  {
   "cell_type": "code",
   "execution_count": 2,
   "id": "4877ce9d",
   "metadata": {
    "ExecuteTime": {
     "end_time": "2021-10-14T09:59:56.744598Z",
     "start_time": "2021-10-14T09:59:23.989313Z"
    }
   },
   "outputs": [
    {
     "data": {
      "text/plain": [
       "0"
      ]
     },
     "execution_count": 2,
     "metadata": {},
     "output_type": "execute_result"
    }
   ],
   "source": [
    "all_blocks = []\n",
    "with open(\"blocks_1.json\") as f:\n",
    "    blocks = json.load(f)\n",
    "all_blocks += blocks\n",
    "del blocks\n",
    "gc.collect()"
   ]
  },
  {
   "cell_type": "code",
   "execution_count": 2,
   "id": "f7cb0481",
   "metadata": {
    "ExecuteTime": {
     "end_time": "2021-10-14T10:03:00.008934Z",
     "start_time": "2021-10-14T10:02:30.107421Z"
    }
   },
   "outputs": [
    {
     "data": {
      "text/plain": [
       "0"
      ]
     },
     "execution_count": 2,
     "metadata": {},
     "output_type": "execute_result"
    }
   ],
   "source": [
    "all_blocks = []\n",
    "with open(\"blocks_2.json\") as f:\n",
    "    blocks = json.load(f)\n",
    "all_blocks += blocks\n",
    "del blocks\n",
    "gc.collect()"
   ]
  },
  {
   "cell_type": "code",
   "execution_count": 2,
   "id": "7a97591a",
   "metadata": {
    "ExecuteTime": {
     "end_time": "2021-10-15T14:19:39.583439Z",
     "start_time": "2021-10-15T14:19:39.580225Z"
    }
   },
   "outputs": [],
   "source": [
    "with open(\"pool_info.json\", \"r\") as f:\n",
    "    pools = json.load(f)\n",
    "apools = {}\n",
    "for symbol in pools:\n",
    "    address = pools[symbol][\"address\"].lower()\n",
    "    apools[address] = symbol"
   ]
  },
  {
   "cell_type": "code",
   "execution_count": 6,
   "id": "4b88b23c",
   "metadata": {
    "ExecuteTime": {
     "end_time": "2021-10-15T14:22:11.997881Z",
     "start_time": "2021-10-15T14:22:11.990065Z"
    }
   },
   "outputs": [
    {
     "data": {
      "text/plain": [
       "{'BTC/USDT': {'address': '0XFBE7B74623E4BE82279027A286FA3A5B5280F77C',\n",
       "  'token0': '0X66A79D23E58475D2738179CA52CD0B41D73F0BEA',\n",
       "  'token1': '0XA71EDC38D189767582C38A3145B5873052C3E47A'},\n",
       " 'ETH/USDT': {'address': '0X78C90D3F8A64474982417CDB490E840C01E516D4',\n",
       "  'token0': '0X64FF637FB478863B7468BC97D30A5BF3A428A1FD',\n",
       "  'token1': '0XA71EDC38D189767582C38A3145B5873052C3E47A'},\n",
       " 'USD/USDT': {'address': '0XDFF86B408284DFF30A7CAD7688FEDB465734501C',\n",
       "  'token0': '0X0298C2B32EAE4DA002A15F36FDF7615BEA3DA047',\n",
       "  'token1': '0XA71EDC38D189767582C38A3145B5873052C3E47A'},\n",
       " 'USDT/LTC': {'address': '0X060B4BFCE16D15A943EC83C56C87940613E162EB',\n",
       "  'token0': '0XA71EDC38D189767582C38A3145B5873052C3E47A',\n",
       "  'token1': '0XECB56CF772B5C9A6907FB7D32387DA2FCBFB63B4'},\n",
       " 'USDT/BCH': {'address': '0X1F0EC8E0096E145F2BF2CB4950ED7B52D1CBD35F',\n",
       "  'token0': '0XA71EDC38D189767582C38A3145B5873052C3E47A',\n",
       "  'token1': '0XEF3CEBD77E0C52CB6F60875D9306397B5CACA375'},\n",
       " 'DOT/USDT': {'address': '0X5484AB0DF3E51187F83F7F6B1A13F7A7EE98C368',\n",
       "  'token0': '0XA2C49CEE16A5E5BDEFDE931107DC1FAE9F7773E3',\n",
       "  'token1': '0XA71EDC38D189767582C38A3145B5873052C3E47A'},\n",
       " 'USDT/FIL': {'address': '0X600072AF0470D9ED1D83885D03D17368943FF22A',\n",
       "  'token0': '0XA71EDC38D189767582C38A3145B5873052C3E47A',\n",
       "  'token1': '0XAE3A768F9AB104C69A7CD6041FE16FFA235D1810'},\n",
       " 'USD/HT': {'address': '0X3375AFF2CACF683B8FC34807B9443EB32E7AFFF6',\n",
       "  'token0': '0X0298C2B32EAE4DA002A15F36FDF7615BEA3DA047',\n",
       "  'token1': '0X5545153CCFCA01FBD7DD11C0B23BA694D9509A6F'},\n",
       " 'MDX/USDT': {'address': '0X615E6285C5944540FD8BD921C9C8C56739FD1E13',\n",
       "  'token0': '0X25D2E80CB6B86881FD7E07DD263FB79F4ABE033C',\n",
       "  'token1': '0XA71EDC38D189767582C38A3145B5873052C3E47A'},\n",
       " 'HT/USDT': {'address': '0X499B6E03749B4BAF95F9E70EED5355B138EA6C31',\n",
       "  'token0': '0X5545153CCFCA01FBD7DD11C0B23BA694D9509A6F',\n",
       "  'token1': '0XA71EDC38D189767582C38A3145B5873052C3E47A'},\n",
       " 'USDT/HPT': {'address': '0XDE5B574925EE475C41B99A7591EC43E92DCD2FC1',\n",
       "  'token0': '0XA71EDC38D189767582C38A3145B5873052C3E47A',\n",
       "  'token1': '0XE499EF4616993730CED0F31FA2703B92B50BB536'},\n",
       " 'MDX/HT': {'address': '0X7D4C254E6BE63FF4508C545EC6CE10A392958B3E',\n",
       "  'token0': '0X25D2E80CB6B86881FD7E07DD263FB79F4ABE033C',\n",
       "  'token1': '0XBBE6C2337A2543239FF313BED370E4EAEDA268EF'},\n",
       " 'USD/FILDA': {'address': '0X7964E55BBDAECDE48C2C8EF86E433ED47FECB519',\n",
       "  'token0': '0X0298C2B32EAE4DA002A15F36FDF7615BEA3DA047',\n",
       "  'token1': '0XE36FFD17B2661EB57144CEAEF942D95295E637F0'},\n",
       " 'LHB/USDT': {'address': '0X023F375A51AF8645D7446BA5942BAEDC53B0582D',\n",
       "  'token0': '0X8F67854497218043E1F72908FFE38D0ED7F24721',\n",
       "  'token1': '0XA71EDC38D189767582C38A3145B5873052C3E47A'},\n",
       " 'AAVE/USDT': {'address': '0XFAFEAAFEFC5F92F22415506E78D9AB1E33C03257',\n",
       "  'token0': '0X202B4936FE1A82A4965220860AE46D7D3939BB25',\n",
       "  'token1': '0XA71EDC38D189767582C38A3145B5873052C3E47A'},\n",
       " 'SNX/USDT': {'address': '0XC7A4C808A29FC8CD3A8A6848F7F18BED9924C692',\n",
       "  'token0': '0X777850281719D5A96C29812AB72F822E0E09F3DA',\n",
       "  'token1': '0XA71EDC38D189767582C38A3145B5873052C3E47A'},\n",
       " 'UNI/USDT': {'address': '0X84455D880AF684EB29997B82832DD71EF29C1354',\n",
       "  'token0': '0X22C54CE8321A4015740EE1109D9CBC25815C46E6',\n",
       "  'token1': '0XA71EDC38D189767582C38A3145B5873052C3E47A'},\n",
       " 'LINK/USDT': {'address': '0X52A342015BAA2496A90A9BB6069D7692564132E6',\n",
       "  'token0': '0X9E004545C59D359F6B7BFB06A26390B087717B42',\n",
       "  'token1': '0XA71EDC38D189767582C38A3145B5873052C3E47A'},\n",
       " 'BAL/USDT': {'address': '0XB6A77CDD31771A4F439622AA36B20CB53C19868C',\n",
       "  'token0': '0X045DE15CA76E76426E8FC7CBA8392A3138078D0F',\n",
       "  'token1': '0XA71EDC38D189767582C38A3145B5873052C3E47A'},\n",
       " 'USDT/YFI': {'address': '0X64AF3564C6D6BEC5883358C560211ECD0F8D1AC7',\n",
       "  'token0': '0XA71EDC38D189767582C38A3145B5873052C3E47A',\n",
       "  'token1': '0XB4F019BEAC758ABBEE2F906033AAA2F0F6DACB35'},\n",
       " 'HT/BTC': {'address': '0XBFFF969A85E355EE0851B019DBA1E87C7780F40D',\n",
       "  'token0': '0X5545153CCFCA01FBD7DD11C0B23BA694D9509A6F',\n",
       "  'token1': '0X66A79D23E58475D2738179CA52CD0B41D73F0BEA'},\n",
       " 'HT/ETH': {'address': '0X53E458AD1CFEB9582736DB6BDE9AF89948E3BC3D',\n",
       "  'token0': '0X5545153CCFCA01FBD7DD11C0B23BA694D9509A6F',\n",
       "  'token1': '0X64FF637FB478863B7468BC97D30A5BF3A428A1FD'},\n",
       " 'ETH/BTC': {'address': '0X793C2A814E23EE38AB46412BE65E94FE47D4B397',\n",
       "  'token0': '0X64FF637FB478863B7468BC97D30A5BF3A428A1FD',\n",
       "  'token1': '0X66A79D23E58475D2738179CA52CD0B41D73F0BEA'},\n",
       " 'MDX/BTC': {'address': '0X2FB4BE0F2785BD6009A383F3290CC97A4E3BD46B',\n",
       "  'token0': '0X25D2E80CB6B86881FD7E07DD263FB79F4ABE033C',\n",
       "  'token1': '0X66A79D23E58475D2738179CA52CD0B41D73F0BEA'},\n",
       " 'MDX/ETH': {'address': '0XB55569893B397324C0D048C9709F40C23445540E',\n",
       "  'token0': '0X25D2E80CB6B86881FD7E07DD263FB79F4ABE033C',\n",
       "  'token1': '0X64FF637FB478863B7468BC97D30A5BF3A428A1FD'},\n",
       " 'MKR/USDT': {'address': '0X18B83288237FCE1C44F332ED6CA851584F66E2A4',\n",
       "  'token0': '0X34D75515090902A513F009F4505A750EFAAD63B0',\n",
       "  'token1': '0XA71EDC38D189767582C38A3145B5873052C3E47A'},\n",
       " 'USDT/COMP': {'address': '0X78B3C20C56D4B3EF133FD4F00A0293C10B380E40',\n",
       "  'token0': '0XA71EDC38D189767582C38A3145B5873052C3E47A',\n",
       "  'token1': '0XCE0A5CA134FB59402B723412994B30E02F083842'},\n",
       " 'SLNV2/USDT': {'address': '0XCF9BB6F88C5B6DDB5C067A0C6D6AE872F895B033',\n",
       "  'token0': '0X4E252342CF35FF02C4CCA9BC655129F5B4A2F901',\n",
       "  'token1': '0XA71EDC38D189767582C38A3145B5873052C3E47A'},\n",
       " 'MDX/BEE': {'address': '0XB8314524E92B3228CA09FF2AD3E0AB08F4622673',\n",
       "  'token0': '0X25D2E80CB6B86881FD7E07DD263FB79F4ABE033C',\n",
       "  'token1': '0XB1F80844A1B84C61AB80CAFD88B1F8C09F9342E1'},\n",
       " 'CAN/MDX': {'address': '0XA4493E679AEC8EC0F140D86900D982036F9E9AA5',\n",
       "  'token0': '0X1E6395E6B059FC97A4DDA925B6C5EBF19E05C69F',\n",
       "  'token1': '0X25D2E80CB6B86881FD7E07DD263FB79F4ABE033C'},\n",
       " 'MDX/BCH': {'address': '0X1986309EC4F23883EA4A407C38CA161C526B9A08',\n",
       "  'token0': '0X25D2E80CB6B86881FD7E07DD263FB79F4ABE033C',\n",
       "  'token1': '0XEF3CEBD77E0C52CB6F60875D9306397B5CACA375'},\n",
       " 'MDX/LTC': {'address': '0XC717DE167C41456A2AE8579B557A6BEEC2553019',\n",
       "  'token0': '0X25D2E80CB6B86881FD7E07DD263FB79F4ABE033C',\n",
       "  'token1': '0XECB56CF772B5C9A6907FB7D32387DA2FCBFB63B4'},\n",
       " 'MDX/DOT': {'address': '0X640AECF73CA21F1BCAE74C7187CECF77F47C60AC',\n",
       "  'token0': '0X25D2E80CB6B86881FD7E07DD263FB79F4ABE033C',\n",
       "  'token1': '0XA2C49CEE16A5E5BDEFDE931107DC1FAE9F7773E3'},\n",
       " 'HT/HPT': {'address': '0X401D97029E3EFADD4245428A8E388F354EE475AF',\n",
       "  'token0': '0X5545153CCFCA01FBD7DD11C0B23BA694D9509A6F',\n",
       "  'token1': '0XE499EF4616993730CED0F31FA2703B92B50BB536'},\n",
       " 'HT/BCH': {'address': '0X86D4DC8A4325245F0B03E438BC0C1395CB163AA5',\n",
       "  'token0': '0X5545153CCFCA01FBD7DD11C0B23BA694D9509A6F',\n",
       "  'token1': '0XEF3CEBD77E0C52CB6F60875D9306397B5CACA375'},\n",
       " 'USD/BTC': {'address': '0X1F75220584419D06290226D6F06F0A7907A954D9',\n",
       "  'token0': '0X0298C2B32EAE4DA002A15F36FDF7615BEA3DA047',\n",
       "  'token1': '0X66A79D23E58475D2738179CA52CD0B41D73F0BEA'},\n",
       " 'USD/ETH': {'address': '0X73F67D9CD8A9C03BCF3A35A559C3A275C30EBA8A',\n",
       "  'token0': '0X0298C2B32EAE4DA002A15F36FDF7615BEA3DA047',\n",
       "  'token1': '0X64FF637FB478863B7468BC97D30A5BF3A428A1FD'},\n",
       " 'USDT/BXH': {'address': '0X9C1CAC97AB98F9CD6383122DB7591DE1BE71C9AC',\n",
       "  'token0': '0XA71EDC38D189767582C38A3145B5873052C3E47A',\n",
       "  'token1': '0XCBD6CB9243D8E3381FEA611EF023E17D1B7AEDF0'},\n",
       " 'HT/FIL': {'address': '0XC1D38A3EE432F906691EA66B9C54B65ACBF35458',\n",
       "  'token0': '0X5545153CCFCA01FBD7DD11C0B23BA694D9509A6F',\n",
       "  'token1': '0XAE3A768F9AB104C69A7CD6041FE16FFA235D1810'},\n",
       " 'HT/DOT': {'address': '0XCD9A26B6AF1445CD48F86BD583C70E46EA6E474B',\n",
       "  'token0': '0X5545153CCFCA01FBD7DD11C0B23BA694D9509A6F',\n",
       "  'token1': '0XA2C49CEE16A5E5BDEFDE931107DC1FAE9F7773E3'},\n",
       " 'HT/LTC': {'address': '0X45351F135629386F4C57D6EA011CC437F2CC9049',\n",
       "  'token0': '0X5545153CCFCA01FBD7DD11C0B23BA694D9509A6F',\n",
       "  'token1': '0XECB56CF772B5C9A6907FB7D32387DA2FCBFB63B4'},\n",
       " 'USDT/PIPI': {'address': '0X9FF32E7C3C22C291E0BF8B262B2504B3081CBDC3',\n",
       "  'token0': '0XA71EDC38D189767582C38A3145B5873052C3E47A',\n",
       "  'token1': '0XAAAE746B5E55D14398879312660E9FDE07FBC1DC'},\n",
       " 'MDX/PTD': {'address': '0X87A88060DC9C53805D308423878C894C0458295B',\n",
       "  'token0': '0X25D2E80CB6B86881FD7E07DD263FB79F4ABE033C',\n",
       "  'token1': '0X52EE54DD7A68E9CF131B0A57FD6015C74D7140E2'},\n",
       " 'USD/GT': {'address': '0X2D13E46D212D6AEB0C92CED4FB3D63F022132DCC',\n",
       "  'token0': '0X0298C2B32EAE4DA002A15F36FDF7615BEA3DA047',\n",
       "  'token1': '0XFD6CE15009D46C6327649218431E8643F82F6D64'},\n",
       " 'USDT/CON': {'address': '0XBEBB01B1B126683BFE67607B24A803754DE9A6FE',\n",
       "  'token0': '0XA71EDC38D189767582C38A3145B5873052C3E47A',\n",
       "  'token1': '0XEEF1324343CA7BF6E743E21DD9E92DFA4EFC3A56'},\n",
       " 'USD/DEP': {'address': '0XC95239FE2BAABDBD15EEC26805156E219B12FFCE',\n",
       "  'token0': '0X0298C2B32EAE4DA002A15F36FDF7615BEA3DA047',\n",
       "  'token1': '0X48C859531254F25E57D1C1A8E030EF0B1C895C27'},\n",
       " 'SOVI/HT': {'address': '0X16565E04813BD675A117CA87564480F1EA743E0D',\n",
       "  'token0': '0X49E16563A2BA84E560780946F0FB73A8B32C841E',\n",
       "  'token1': '0X5545153CCFCA01FBD7DD11C0B23BA694D9509A6F'},\n",
       " 'MDX/HFI': {'address': '0X76C29511B545AB6ADC2D0890DA76126F01806030',\n",
       "  'token0': '0X25D2E80CB6B86881FD7E07DD263FB79F4ABE033C',\n",
       "  'token1': '0X98FC3B60ED4A504F588342A53746405E355F9347'},\n",
       " 'EDC/USDT': {'address': '0XFED180001C0A85A0B6D4559BE5CE63330E7CA9B6',\n",
       "  'token0': '0X68A0A1FEF18DFCC422DB8BE6F0F486DEA1999EDC',\n",
       "  'token1': '0XA71EDC38D189767582C38A3145B5873052C3E47A'},\n",
       " 'MDX/FEI': {'address': '0X27F1BEA6FC230D5162BB42B2C97CAE896CC397DB',\n",
       "  'token0': '0X25D2E80CB6B86881FD7E07DD263FB79F4ABE033C',\n",
       "  'token1': '0X485CDBFF08A4F91A16689E73893A11AE8B76AF6D'},\n",
       " 'TRIBE/USDT': {'address': '0XC126C78D743C9E938CFC77025B14F1ACE443F9BB',\n",
       "  'token0': '0X38999FA3A7320BD2C3609BF0F8CB5CD4C11D3FE1',\n",
       "  'token1': '0XA71EDC38D189767582C38A3145B5873052C3E47A'},\n",
       " 'USDT/HOO': {'address': '0XC71C2B3E0634BFA0B89E287B466EEFF05C5B93D7',\n",
       "  'token0': '0XA71EDC38D189767582C38A3145B5873052C3E47A',\n",
       "  'token1': '0XE1D1F66215998786110BA0102EF558B22224C016'},\n",
       " 'DOGE/USDT': {'address': '0XAD67DD95926BD56094908917FA44529933B6F831',\n",
       "  'token0': '0X40280E26A572745B1152A54D1D44F365DAA51618',\n",
       "  'token1': '0XA71EDC38D189767582C38A3145B5873052C3E47A'},\n",
       " 'USDT/EOS': {'address': '0X4BB6826E1DB889AE30657FA19E1A80D9AE332DA5',\n",
       "  'token0': '0XA71EDC38D189767582C38A3145B5873052C3E47A',\n",
       "  'token1': '0XAE3A94A6DC7FCE46B40D63BBF355A3AB2AA2A588'},\n",
       " 'ADA/USDT': {'address': '0X8D0E7BCF9CF3B5B3FACE8C440B3C71C6CD5DBBC9',\n",
       "  'token0': '0X843AF718EF25708765A8E0942F89EDEAE1D88DF0',\n",
       "  'token1': '0XA71EDC38D189767582C38A3145B5873052C3E47A'},\n",
       " 'XRP/USDT': {'address': '0X9DBE263C92FAAEC700980089E73D2764614ED8EE',\n",
       "  'token0': '0XA2F3C2446A3E20049708838A779FF8782CE6645A',\n",
       "  'token1': '0XA71EDC38D189767582C38A3145B5873052C3E47A'},\n",
       " 'USDT/JT': {'address': '0XCE2651055947E7BFCD2E221A1AE5E06C4121F803',\n",
       "  'token0': '0XA71EDC38D189767582C38A3145B5873052C3E47A',\n",
       "  'token1': '0XC0ECC17C6C87B32B2A86D9F4A783974CB1E6507C'},\n",
       " 'ZT/USDT': {'address': '0X72E7831E70C4F59316BD70596D1875F49A326798',\n",
       "  'token0': '0X2B116651F2E4D50B53B3299D11CB2D96D97AE24A',\n",
       "  'token1': '0XA71EDC38D189767582C38A3145B5873052C3E47A'},\n",
       " 'ONE/USDT': {'address': '0X3BEBAE287C7BAA1C25B38CBFCDA667021F9932BA',\n",
       "  'token0': '0X04BAF95FD4C52FD09A56D840BAEE0AB8D7357BF0',\n",
       "  'token1': '0XA71EDC38D189767582C38A3145B5873052C3E47A'},\n",
       " 'MDX/BOO': {'address': '0X6E9DBFAB4D3623F529359921D16877D329183220',\n",
       "  'token0': '0X25D2E80CB6B86881FD7E07DD263FB79F4ABE033C',\n",
       "  'token1': '0XFF96DCCF2763D512B6038DC60B7E96D1A9142507'},\n",
       " 'USDT/SHIB': {'address': '0X1C85DD9E5FEE4C40786BD6278255D977946A364B',\n",
       "  'token0': '0XA71EDC38D189767582C38A3145B5873052C3E47A',\n",
       "  'token1': '0XC38072AA3F8E049DE541223A9C9772132BB48634'},\n",
       " 'WOO/USDT': {'address': '0X0E54E4087F8F650BFC230C9C22D9CEFD7A4E5321',\n",
       "  'token0': '0X3BEFB2308BCE92DA97264077FAF37DCD6C8A75E6',\n",
       "  'token1': '0XA71EDC38D189767582C38A3145B5873052C3E47A'},\n",
       " 'SWFTC/USDT': {'address': '0X223CAD716712FB01D2466A3D08DBB84FEBF087F3',\n",
       "  'token0': '0X329DDA64CBC4DFD5FA5072B447B3941CE054EBB3',\n",
       "  'token1': '0XA71EDC38D189767582C38A3145B5873052C3E47A'},\n",
       " 'HT/BLACK': {'address': '0XA484AAD7B68009B8A6EB994F9D94208FD92D9F3F',\n",
       "  'token0': '0X5545153CCFCA01FBD7DD11C0B23BA694D9509A6F',\n",
       "  'token1': '0XD714D91A169127E11D8FAB3665D72E8B7EF9DBE2'},\n",
       " 'DOG/USDT': {'address': '0X0FDD97FAC7DD6B46E7F9B68D8C98E52B63A33290',\n",
       "  'token0': '0X099626783842D35C221E5D01694C2B928EB3B0AD',\n",
       "  'token1': '0XA71EDC38D189767582C38A3145B5873052C3E47A'},\n",
       " 'DAI/USDC': {'address': '0X2D6884276DAD0D20755DF8857EBFBB30726488EE',\n",
       "  'token0': '0X3D760A45D0887DFD89A2F5385A236B29CB46ED2A',\n",
       "  'token1': '0X9362BBEF4B8313A8AA9F0C9808B80577AA26B73B'},\n",
       " 'MDX/LION': {'address': '0X874BB8DDA5197AA86BC59162C1ECAEE0FD5F76DA',\n",
       "  'token0': '0X25D2E80CB6B86881FD7E07DD263FB79F4ABE033C',\n",
       "  'token1': '0XD44C3BA075D73C812E272C03D42FDB6448AE10CD'},\n",
       " 'USDC/USDT': {'address': '0XF37DE9F4E1A0A58F839DBA868E76B5779109C2A4',\n",
       "  'token0': '0X9362BBEF4B8313A8AA9F0C9808B80577AA26B73B',\n",
       "  'token1': '0XA71EDC38D189767582C38A3145B5873052C3E47A'},\n",
       " 'DAI/USDT': {'address': '0X7072BC4FFA57D310191AA6BC7E93BC5E5FCEB738',\n",
       "  'token0': '0X3D760A45D0887DFD89A2F5385A236B29CB46ED2A',\n",
       "  'token1': '0XA71EDC38D189767582C38A3145B5873052C3E47A'},\n",
       " 'HT/HTMOON': {'address': '0XF095F1793CA534C14BB28F9A71A813065672B2DF',\n",
       "  'token0': '0X5545153CCFCA01FBD7DD11C0B23BA694D9509A6F',\n",
       "  'token1': '0XB62E3B6A3866F5754FDEFCF82E733310E2851043'},\n",
       " 'USDT/NULS': {'address': '0X6443099559DE3204BB3A4B128B641F8879DF838F',\n",
       "  'token0': '0XA71EDC38D189767582C38A3145B5873052C3E47A',\n",
       "  'token1': '0XD938E45680DA19AD36646AE8D4C671B2B1270F39'},\n",
       " 'BIFI/USDT': {'address': '0XE6F7B06AD8B93A21F78E4ACD59F2DAC169EA704B',\n",
       "  'token0': '0X765277EEBECA2E31912C9946EAE1021199B39C61',\n",
       "  'token1': '0XA71EDC38D189767582C38A3145B5873052C3E47A'},\n",
       " 'MX/USDT': {'address': '0X6819F7A528DCAA2EDADD6412265D11C6E65BA89D',\n",
       "  'token0': '0X8D854E603DC777337134286F5B3408261736A88F',\n",
       "  'token1': '0XA71EDC38D189767582C38A3145B5873052C3E47A'},\n",
       " 'HT/HBELT': {'address': '0X2B2D172117358F6306F34A8CFEBC3D2FAC7C2E38',\n",
       "  'token0': '0X5545153CCFCA01FBD7DD11C0B23BA694D9509A6F',\n",
       "  'token1': '0X8C517631A7CD20FC365AA9A4025955FCDAA11F57'},\n",
       " 'BNB/HT': {'address': '0X76BD054865C8B43D3433B51B29C7FC87F88BB1D2',\n",
       "  'token0': '0X4F99D10E16972FF2FE315EEE53A95FC5A5870CE3',\n",
       "  'token1': '0X5545153CCFCA01FBD7DD11C0B23BA694D9509A6F'},\n",
       " 'MDX/COW': {'address': '0X31E6C3D4BDEF2768B0276DECC82B022AB50B88D8',\n",
       "  'token0': '0X25D2E80CB6B86881FD7E07DD263FB79F4ABE033C',\n",
       "  'token1': '0X80861A817106665BCA173DB6AC2AB628A738C737'},\n",
       " 'USD/O3': {'address': '0XA83925175646527CD5F3C0FFE0F39A6C32AF32FB',\n",
       "  'token0': '0X0298C2B32EAE4DA002A15F36FDF7615BEA3DA047',\n",
       "  'token1': '0XEE9801669C6138E84BD50DEB500827B776777D28'}}"
      ]
     },
     "execution_count": 6,
     "metadata": {},
     "output_type": "execute_result"
    }
   ],
   "source": [
    "pools"
   ]
  },
  {
   "cell_type": "code",
   "execution_count": 4,
   "id": "b2018f90",
   "metadata": {
    "ExecuteTime": {
     "end_time": "2021-10-14T10:03:16.903644Z",
     "start_time": "2021-10-14T10:03:11.707638Z"
    }
   },
   "outputs": [],
   "source": [
    "df = {}\n",
    "n_total_transactions = 0\n",
    "for block in all_blocks:\n",
    "    transactions = block[\"transactions\"]\n",
    "    n_total_transactions += len(transactions)\n",
    "    block_number = block[\"blockNumber\"]\n",
    "    block_timestamp = block[\"timestamp\"]\n",
    "    for transaction in transactions:\n",
    "        if \"Gas Price\" not in transaction:\n",
    "            continue\n",
    "        else:\n",
    "            gas_price = transaction[\"Gas Price\"].replace(\",\", \"\").split(\"(\")[-1].split(' ')[0]\n",
    "            try:\n",
    "                gas_price = float(gas_price)\n",
    "            except:\n",
    "                gas_price = np.nan\n",
    "\n",
    "        tr_hash = transaction[\"Transaction Hash\"]\n",
    "        status = transaction[\"Status\"]\n",
    "        if \"Success\" in status:\n",
    "            status = \"Success\"\n",
    "\n",
    "        transferred_value = 0\n",
    "        transferred_number = 0\n",
    "        for token in transaction.get(\"Tokens\", []):\n",
    "            if not token.get(\"From\", \"\") or token.get(\n",
    "                    \"To\") == \"0x0000000000000000000000000000000000000000 \":\n",
    "                continue\n",
    "            transferred_number += 1\n",
    "            _ = token.get(\"For\")\n",
    "            if _:\n",
    "                value = re.findall(r\"[$](.*?)[)]\", _)\n",
    "                if len(value):\n",
    "                    value = value[0]\n",
    "                    value = value.replace(\",\", \"\")\n",
    "                    try:\n",
    "                        value = float(value)\n",
    "                        transferred_value += float(value)\n",
    "                    except:\n",
    "                        print(_)\n",
    "\n",
    "        if \"Gas Limit\" in transaction:\n",
    "            gas_limit = transaction[\"Gas Limit\"].replace(\",\", \"\")\n",
    "            try:\n",
    "                gas_limit = int(gas_limit)\n",
    "            except:\n",
    "                gas_limit = np.nan\n",
    "        else:\n",
    "            gas_limit = np.nan\n",
    "\n",
    "        if \"Gas Used by Transaction\" in transaction:\n",
    "            gas_used = transaction[\"Gas Used by Transaction\"].split(' ')[0].replace(\",\", \"\")\n",
    "            try:\n",
    "                gas_used = int(gas_used)\n",
    "            except:\n",
    "                gas_used = np.nan\n",
    "        else:\n",
    "            gas_used = np.nan\n",
    "\n",
    "        can_abi = transaction[\"canAbi\"]\n",
    "\n",
    "        logs = transaction.get(\"Logs\", [])\n",
    "        \n",
    "        for log in logs:\n",
    "            address = log[\"Address\"]\n",
    "            if address in apools:\n",
    "                df[tr_hash] = {\n",
    "                    \"block_number\": block_number,\n",
    "                    \"n_transaction\": len(transactions),\n",
    "                    \"timestamp\": block_timestamp,\n",
    "                    \"from\": transaction.get(\"From\"),\n",
    "                    \"to\": transaction.get(\"To\", \"\").replace(\"Contract\", \"\").strip(),\n",
    "                    \"status\": status,\n",
    "                    \"transferred_value\": transferred_value,\n",
    "                    \"transferred_number\": transferred_number,\n",
    "                    \"gas_limit\": gas_limit,\n",
    "                    \"gas_used\": gas_used,\n",
    "                    \"gas_price\": gas_price,\n",
    "                    \"can_abi\": can_abi,\n",
    "                    \"symbol\": apools[address]\n",
    "                }\n",
    "\n",
    "df = pd.DataFrame.from_dict(df, orient=\"index\")\n",
    "df.index.name = \"hash\""
   ]
  },
  {
   "cell_type": "code",
   "execution_count": 6,
   "id": "02dd9f55",
   "metadata": {
    "ExecuteTime": {
     "end_time": "2021-10-14T10:03:37.039689Z",
     "start_time": "2021-10-14T10:03:36.545622Z"
    }
   },
   "outputs": [],
   "source": [
    "df.to_csv(\"cleaned.csv\", mode=\"a\", header=None)"
   ]
  },
  {
   "cell_type": "code",
   "execution_count": 2,
   "id": "f143f1ca",
   "metadata": {
    "ExecuteTime": {
     "end_time": "2021-10-14T10:04:14.769151Z",
     "start_time": "2021-10-14T10:04:13.992510Z"
    }
   },
   "outputs": [],
   "source": [
    "df = pd.read_csv(\"cleaned.csv\")"
   ]
  },
  {
   "cell_type": "code",
   "execution_count": 11,
   "id": "8823f512",
   "metadata": {
    "ExecuteTime": {
     "end_time": "2021-10-14T10:06:08.224170Z",
     "start_time": "2021-10-14T10:06:08.220878Z"
    }
   },
   "outputs": [],
   "source": [
    "aa = df[df.gas_price==df.gas_price.max()]"
   ]
  },
  {
   "cell_type": "code",
   "execution_count": 10,
   "id": "18406e12",
   "metadata": {
    "ExecuteTime": {
     "end_time": "2021-10-14T10:05:41.082273Z",
     "start_time": "2021-10-14T10:05:41.069633Z"
    }
   },
   "outputs": [
    {
     "data": {
      "text/html": [
       "<div>\n",
       "<style scoped>\n",
       "    .dataframe tbody tr th:only-of-type {\n",
       "        vertical-align: middle;\n",
       "    }\n",
       "\n",
       "    .dataframe tbody tr th {\n",
       "        vertical-align: top;\n",
       "    }\n",
       "\n",
       "    .dataframe thead th {\n",
       "        text-align: right;\n",
       "    }\n",
       "</style>\n",
       "<table border=\"1\" class=\"dataframe\">\n",
       "  <thead>\n",
       "    <tr style=\"text-align: right;\">\n",
       "      <th></th>\n",
       "      <th>hash</th>\n",
       "      <th>block_number</th>\n",
       "      <th>n_transaction</th>\n",
       "      <th>timestamp</th>\n",
       "      <th>from</th>\n",
       "      <th>to</th>\n",
       "      <th>status</th>\n",
       "      <th>transferred_value</th>\n",
       "      <th>transferred_number</th>\n",
       "      <th>gas_limit</th>\n",
       "      <th>gas_used</th>\n",
       "      <th>gas_price</th>\n",
       "      <th>can_abi</th>\n",
       "      <th>symbol</th>\n",
       "    </tr>\n",
       "  </thead>\n",
       "  <tbody>\n",
       "    <tr>\n",
       "      <th>165030</th>\n",
       "      <td>0xf7240c6748925a590f9351fbcf9575cfd188d23682c8...</td>\n",
       "      <td>8596486</td>\n",
       "      <td>51</td>\n",
       "      <td>1.633744e+12</td>\n",
       "      <td>0x0000000000a3d531e72fe7bb40a4e7fb033595cd0x00...</td>\n",
       "      <td>0x466d229a514d7cdc0a331c450a1f4767217372770x46...</td>\n",
       "      <td>Success</td>\n",
       "      <td>1419.98</td>\n",
       "      <td>7</td>\n",
       "      <td>580000.0</td>\n",
       "      <td>313421</td>\n",
       "      <td>3618.452057</td>\n",
       "      <td>False</td>\n",
       "      <td>MDX/USDT</td>\n",
       "    </tr>\n",
       "    <tr>\n",
       "      <th>165031</th>\n",
       "      <td>0x4d93c77a2868052dd256e8e637cf098e463ef8aadeac...</td>\n",
       "      <td>8596486</td>\n",
       "      <td>51</td>\n",
       "      <td>1.633744e+12</td>\n",
       "      <td>0xaa3e34c024271c476a979fafc181aadb9d8ecffd0xaa...</td>\n",
       "      <td>0xed7d5f38c79115ca12fe6c0041abb22f0a06c3000xed...</td>\n",
       "      <td>Success</td>\n",
       "      <td>632.82</td>\n",
       "      <td>2</td>\n",
       "      <td>2100000.0</td>\n",
       "      <td>144550</td>\n",
       "      <td>41.000000</td>\n",
       "      <td>True</td>\n",
       "      <td>MDX/BCH</td>\n",
       "    </tr>\n",
       "    <tr>\n",
       "      <th>165032</th>\n",
       "      <td>0x290ae793cb02fa394a958dc9c889c3046c68f30898c0...</td>\n",
       "      <td>8596486</td>\n",
       "      <td>51</td>\n",
       "      <td>1.633744e+12</td>\n",
       "      <td>0x67108e315c95e345e02f741e95a904a62449b7c10x67...</td>\n",
       "      <td>0x2979f9c20f75891070f23f950700906551a560c60x29...</td>\n",
       "      <td>Success</td>\n",
       "      <td>678.85</td>\n",
       "      <td>3</td>\n",
       "      <td>380000.0</td>\n",
       "      <td>267348</td>\n",
       "      <td>11.999000</td>\n",
       "      <td>False</td>\n",
       "      <td>MDX/ETH</td>\n",
       "    </tr>\n",
       "    <tr>\n",
       "      <th>165033</th>\n",
       "      <td>0xd6d4e6c58ff92b5afd47c7f15ffad51096d5baf08dc4...</td>\n",
       "      <td>8596486</td>\n",
       "      <td>51</td>\n",
       "      <td>1.633744e+12</td>\n",
       "      <td>0xaccb69ec37083a13498ae673665c4dba4aef9a100xac...</td>\n",
       "      <td>0x92b3420a31250c62d019c530de4683676108a0950x92...</td>\n",
       "      <td>Success</td>\n",
       "      <td>1434.22</td>\n",
       "      <td>22</td>\n",
       "      <td>2860000.0</td>\n",
       "      <td>1057826</td>\n",
       "      <td>7.662765</td>\n",
       "      <td>False</td>\n",
       "      <td>MDX/USDT</td>\n",
       "    </tr>\n",
       "  </tbody>\n",
       "</table>\n",
       "</div>"
      ],
      "text/plain": [
       "                                                     hash  block_number  \\\n",
       "165030  0xf7240c6748925a590f9351fbcf9575cfd188d23682c8...       8596486   \n",
       "165031  0x4d93c77a2868052dd256e8e637cf098e463ef8aadeac...       8596486   \n",
       "165032  0x290ae793cb02fa394a958dc9c889c3046c68f30898c0...       8596486   \n",
       "165033  0xd6d4e6c58ff92b5afd47c7f15ffad51096d5baf08dc4...       8596486   \n",
       "\n",
       "        n_transaction     timestamp  \\\n",
       "165030             51  1.633744e+12   \n",
       "165031             51  1.633744e+12   \n",
       "165032             51  1.633744e+12   \n",
       "165033             51  1.633744e+12   \n",
       "\n",
       "                                                     from  \\\n",
       "165030  0x0000000000a3d531e72fe7bb40a4e7fb033595cd0x00...   \n",
       "165031  0xaa3e34c024271c476a979fafc181aadb9d8ecffd0xaa...   \n",
       "165032  0x67108e315c95e345e02f741e95a904a62449b7c10x67...   \n",
       "165033  0xaccb69ec37083a13498ae673665c4dba4aef9a100xac...   \n",
       "\n",
       "                                                       to   status  \\\n",
       "165030  0x466d229a514d7cdc0a331c450a1f4767217372770x46...  Success   \n",
       "165031  0xed7d5f38c79115ca12fe6c0041abb22f0a06c3000xed...  Success   \n",
       "165032  0x2979f9c20f75891070f23f950700906551a560c60x29...  Success   \n",
       "165033  0x92b3420a31250c62d019c530de4683676108a0950x92...  Success   \n",
       "\n",
       "        transferred_value  transferred_number  gas_limit  gas_used  \\\n",
       "165030            1419.98                   7   580000.0    313421   \n",
       "165031             632.82                   2  2100000.0    144550   \n",
       "165032             678.85                   3   380000.0    267348   \n",
       "165033            1434.22                  22  2860000.0   1057826   \n",
       "\n",
       "          gas_price  can_abi    symbol  \n",
       "165030  3618.452057    False  MDX/USDT  \n",
       "165031    41.000000     True   MDX/BCH  \n",
       "165032    11.999000    False   MDX/ETH  \n",
       "165033     7.662765    False  MDX/USDT  "
      ]
     },
     "execution_count": 10,
     "metadata": {},
     "output_type": "execute_result"
    }
   ],
   "source": [
    "df[df.block_number==8596486].iloc[0]"
   ]
  },
  {
   "cell_type": "code",
   "execution_count": 16,
   "id": "2493a56b",
   "metadata": {
    "ExecuteTime": {
     "end_time": "2021-10-14T10:07:15.375725Z",
     "start_time": "2021-10-14T10:07:15.351158Z"
    }
   },
   "outputs": [
    {
     "data": {
      "text/plain": [
       "65055"
      ]
     },
     "execution_count": 16,
     "metadata": {},
     "output_type": "execute_result"
    }
   ],
   "source": [
    "len(set(df.block_number))"
   ]
  },
  {
   "cell_type": "code",
   "execution_count": 3,
   "id": "22750cce",
   "metadata": {
    "ExecuteTime": {
     "end_time": "2021-10-14T10:04:16.329112Z",
     "start_time": "2021-10-14T10:04:16.309021Z"
    }
   },
   "outputs": [
    {
     "data": {
      "text/plain": [
       "Success    248811\n",
       "Name: status, dtype: int64"
      ]
     },
     "execution_count": 3,
     "metadata": {},
     "output_type": "execute_result"
    }
   ],
   "source": [
    "df.status.value_counts()"
   ]
  }
 ],
 "metadata": {
  "kernelspec": {
   "display_name": "Python 3",
   "language": "python",
   "name": "python3"
  },
  "language_info": {
   "codemirror_mode": {
    "name": "ipython",
    "version": 3
   },
   "file_extension": ".py",
   "mimetype": "text/x-python",
   "name": "python",
   "nbconvert_exporter": "python",
   "pygments_lexer": "ipython3",
   "version": "3.8.8"
  },
  "varInspector": {
   "cols": {
    "lenName": 16,
    "lenType": 16,
    "lenVar": 40
   },
   "kernels_config": {
    "python": {
     "delete_cmd_postfix": "",
     "delete_cmd_prefix": "del ",
     "library": "var_list.py",
     "varRefreshCmd": "print(var_dic_list())"
    },
    "r": {
     "delete_cmd_postfix": ") ",
     "delete_cmd_prefix": "rm(",
     "library": "var_list.r",
     "varRefreshCmd": "cat(var_dic_list()) "
    }
   },
   "types_to_exclude": [
    "module",
    "function",
    "builtin_function_or_method",
    "instance",
    "_Feature"
   ],
   "window_display": false
  }
 },
 "nbformat": 4,
 "nbformat_minor": 5
}
