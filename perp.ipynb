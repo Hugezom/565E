{
 "cells": [
  {
   "cell_type": "code",
   "execution_count": 1,
   "id": "eb38a798",
   "metadata": {
    "ExecuteTime": {
     "end_time": "2021-11-15T16:30:40.653144Z",
     "start_time": "2021-11-15T16:30:40.176081Z"
    }
   },
   "outputs": [],
   "source": [
    "import gc\n",
    "import re\n",
    "import time\n",
    "import json\n",
    "import pymongo\n",
    "import numpy as np\n",
    "import pandas as pd"
   ]
  },
  {
   "cell_type": "code",
   "execution_count": null,
   "id": "a6e2fa9b",
   "metadata": {
    "ExecuteTime": {
     "end_time": "2021-10-14T09:04:19.801484Z",
     "start_time": "2021-10-14T09:04:19.376236Z"
    }
   },
   "outputs": [],
   "source": [
    "mongo_client = pymongo.MongoClient('dds-j6c504a39ac4fcc42259-pub.mongodb.rds.aliyuncs.com', 3717)\n",
    "mongo_auth = mongo_client.monitoring\n",
    "mongo_auth.authenticate('monitoringuser', 'passwordqwe')\n",
    "db = mongo_client['monitoring']"
   ]
  },
  {
   "cell_type": "code",
   "execution_count": null,
   "id": "81374bd7",
   "metadata": {
    "ExecuteTime": {
     "end_time": "2021-10-14T09:07:08.664169Z",
     "start_time": "2021-10-14T09:04:20.294472Z"
    }
   },
   "outputs": [],
   "source": [
    "_all_blocks = db['all_heco_blocks']\n",
    "_all_blocks = _all_blocks.find({\"blockNumber\":{\"$lt\":8589810}}).sort('blockNumber', -1).limit(25000)\n",
    "#_all_blocks = _all_blocks.find({\"blockNumber\":{\"$lt\":8614810}}).sort('blockNumber', -1).limit(25000)\n",
    "all_blocks = []\n",
    "for block in _all_blocks:\n",
    "    block.pop(\"_id\")\n",
    "    all_blocks.append(block)"
   ]
  },
  {
   "cell_type": "code",
   "execution_count": 6,
   "id": "f3a9f493",
   "metadata": {
    "ExecuteTime": {
     "end_time": "2021-10-14T09:23:59.726023Z",
     "start_time": "2021-10-14T09:23:48.422179Z"
    },
    "scrolled": true
   },
   "outputs": [],
   "source": [
    "with open(\"blocks_2.json\", \"w\") as f:\n",
    "    f.write(json.dumps(all_blocks))"
   ]
  },
  {
   "cell_type": "code",
   "execution_count": null,
   "id": "2bd1b4c0",
   "metadata": {},
   "outputs": [],
   "source": []
  },
  {
   "cell_type": "code",
   "execution_count": 7,
   "id": "f53a4381",
   "metadata": {
    "ExecuteTime": {
     "end_time": "2021-10-15T15:23:27.888349Z",
     "start_time": "2021-10-15T15:22:31.025130Z"
    }
   },
   "outputs": [],
   "source": [
    "with open(\"blocks_0.json\") as f:\n",
    "    all_blocks = json.load(f)"
   ]
  },
  {
   "cell_type": "code",
   "execution_count": 2,
   "id": "4877ce9d",
   "metadata": {
    "ExecuteTime": {
     "end_time": "2021-10-15T15:38:53.085887Z",
     "start_time": "2021-10-15T15:38:21.068253Z"
    }
   },
   "outputs": [
    {
     "data": {
      "text/plain": [
       "0"
      ]
     },
     "execution_count": 2,
     "metadata": {},
     "output_type": "execute_result"
    }
   ],
   "source": [
    "all_blocks = []\n",
    "with open(\"blocks_1.json\") as f:\n",
    "    blocks = json.load(f)\n",
    "all_blocks += blocks\n",
    "del blocks\n",
    "gc.collect()"
   ]
  },
  {
   "cell_type": "code",
   "execution_count": 2,
   "id": "f7cb0481",
   "metadata": {
    "ExecuteTime": {
     "end_time": "2021-10-15T15:55:24.736952Z",
     "start_time": "2021-10-15T15:54:55.427974Z"
    }
   },
   "outputs": [
    {
     "data": {
      "text/plain": [
       "0"
      ]
     },
     "execution_count": 2,
     "metadata": {},
     "output_type": "execute_result"
    }
   ],
   "source": [
    "all_blocks = []\n",
    "with open(\"blocks_2.json\") as f:\n",
    "    blocks = json.load(f)\n",
    "all_blocks += blocks\n",
    "del blocks\n",
    "gc.collect()"
   ]
  },
  {
   "cell_type": "code",
   "execution_count": 2,
   "id": "7a97591a",
   "metadata": {
    "ExecuteTime": {
     "end_time": "2021-11-15T16:30:51.631514Z",
     "start_time": "2021-11-15T16:30:51.628662Z"
    }
   },
   "outputs": [],
   "source": [
    "with open(\"pool_info.json\", \"r\") as f:\n",
    "    pools = json.load(f)\n",
    "apools = {}\n",
    "for symbol in pools:\n",
    "    address = pools[symbol][\"address\"].lower()\n",
    "    apools[address] = symbol"
   ]
  },
  {
   "cell_type": "code",
   "execution_count": 3,
   "id": "5ac2312b",
   "metadata": {
    "ExecuteTime": {
     "end_time": "2021-11-15T16:30:57.048848Z",
     "start_time": "2021-11-15T16:30:57.042649Z"
    }
   },
   "outputs": [
    {
     "data": {
      "text/plain": [
       "77"
      ]
     },
     "execution_count": 3,
     "metadata": {},
     "output_type": "execute_result"
    }
   ],
   "source": [
    "len(apools)"
   ]
  },
  {
   "cell_type": "code",
   "execution_count": 4,
   "id": "b2018f90",
   "metadata": {
    "ExecuteTime": {
     "end_time": "2021-10-15T15:59:22.614488Z",
     "start_time": "2021-10-15T15:59:17.389746Z"
    }
   },
   "outputs": [
    {
     "name": "stdout",
     "output_type": "stream",
     "text": [
      "924353\n"
     ]
    }
   ],
   "source": [
    "df = {}\n",
    "n_total_transactions = 0\n",
    "for block in all_blocks:\n",
    "    transactions = block[\"transactions\"]\n",
    "    n_total_transactions += len(transactions)\n",
    "    block_number = block[\"blockNumber\"]\n",
    "    block_timestamp = block[\"timestamp\"]\n",
    "    for transaction in transactions:\n",
    "        if \"Gas Price\" not in transaction:\n",
    "            continue\n",
    "        else:\n",
    "            gas_price = transaction[\"Gas Price\"].replace(\",\", \"\").split(\"(\")[-1].split(' ')[0]\n",
    "            try:\n",
    "                gas_price = float(gas_price)\n",
    "            except:\n",
    "                gas_price = np.nan\n",
    "\n",
    "        tr_hash = transaction[\"Transaction Hash\"]\n",
    "        status = transaction[\"Status\"]\n",
    "        if \"Success\" in status:\n",
    "            status = \"Success\"\n",
    "\n",
    "        transferred_value = 0\n",
    "        transferred_number = 0\n",
    "        for token in transaction.get(\"Tokens\", []):\n",
    "            if not token.get(\"From\", \"\") or token.get(\n",
    "                    \"To\") == \"0x0000000000000000000000000000000000000000 \":\n",
    "                continue\n",
    "            transferred_number += 1\n",
    "            _ = token.get(\"For\")\n",
    "            if _:\n",
    "                value = re.findall(r\"[$](.*?)[)]\", _)\n",
    "                if len(value):\n",
    "                    value = value[0]\n",
    "                    value = value.replace(\",\", \"\")\n",
    "                    try:\n",
    "                        value = float(value)\n",
    "                        transferred_value += float(value)\n",
    "                    except:\n",
    "                        print(_)\n",
    "\n",
    "        if \"Gas Limit\" in transaction:\n",
    "            gas_limit = transaction[\"Gas Limit\"].replace(\",\", \"\")\n",
    "            try:\n",
    "                gas_limit = int(gas_limit)\n",
    "            except:\n",
    "                gas_limit = np.nan\n",
    "        else:\n",
    "            gas_limit = np.nan\n",
    "\n",
    "        if \"Gas Used by Transaction\" in transaction:\n",
    "            gas_used = transaction[\"Gas Used by Transaction\"].split(' ')[0].replace(\",\", \"\")\n",
    "            try:\n",
    "                gas_used = int(gas_used)\n",
    "            except:\n",
    "                gas_used = np.nan\n",
    "        else:\n",
    "            gas_used = np.nan\n",
    "\n",
    "        can_abi = transaction[\"canAbi\"]\n",
    "\n",
    "        logs = transaction.get(\"Logs\", [])\n",
    "        \n",
    "        for log in logs:\n",
    "            address = log[\"Address\"]\n",
    "            if address in apools:\n",
    "                df[tr_hash] = {\n",
    "                    \"block_number\": block_number,\n",
    "                    \"n_transaction\": len(transactions),\n",
    "                    \"timestamp\": block_timestamp,\n",
    "                    \"from\": transaction.get(\"From\"),\n",
    "                    \"to\": transaction.get(\"To\", \"\").replace(\"Contract\", \"\").strip(),\n",
    "                    \"status\": status,\n",
    "                    \"transferred_value\": transferred_value,\n",
    "                    \"transferred_number\": transferred_number,\n",
    "                    \"gas_limit\": gas_limit,\n",
    "                    \"gas_used\": gas_used,\n",
    "                    \"gas_price\": gas_price,\n",
    "                    \"can_abi\": can_abi,\n",
    "                    \"symbol\": apools[address]\n",
    "                }\n",
    "\n",
    "df = pd.DataFrame.from_dict(df, orient=\"index\")\n",
    "df.index.name = \"hash\"\n",
    "print(n_total_transactions)"
   ]
  },
  {
   "cell_type": "code",
   "execution_count": 6,
   "id": "3be9db7a",
   "metadata": {
    "ExecuteTime": {
     "end_time": "2021-10-15T16:19:18.375641Z",
     "start_time": "2021-10-15T16:19:18.372914Z"
    }
   },
   "outputs": [
    {
     "data": {
      "text/plain": [
       "2880323"
      ]
     },
     "execution_count": 6,
     "metadata": {},
     "output_type": "execute_result"
    }
   ],
   "source": [
    "1197889+758081+924353"
   ]
  },
  {
   "cell_type": "code",
   "execution_count": 6,
   "id": "02dd9f55",
   "metadata": {
    "ExecuteTime": {
     "end_time": "2021-10-14T10:03:37.039689Z",
     "start_time": "2021-10-14T10:03:36.545622Z"
    }
   },
   "outputs": [],
   "source": [
    "df.to_csv(\"cleaned.csv\", mode=\"a\", header=None)"
   ]
  },
  {
   "cell_type": "code",
   "execution_count": 2,
   "id": "f143f1ca",
   "metadata": {
    "ExecuteTime": {
     "end_time": "2021-10-14T10:04:14.769151Z",
     "start_time": "2021-10-14T10:04:13.992510Z"
    }
   },
   "outputs": [],
   "source": [
    "df = pd.read_csv(\"cleaned.csv\")"
   ]
  },
  {
   "cell_type": "code",
   "execution_count": 11,
   "id": "8823f512",
   "metadata": {
    "ExecuteTime": {
     "end_time": "2021-10-14T10:06:08.224170Z",
     "start_time": "2021-10-14T10:06:08.220878Z"
    }
   },
   "outputs": [],
   "source": [
    "aa = df[df.gas_price==df.gas_price.max()]"
   ]
  },
  {
   "cell_type": "code",
   "execution_count": 10,
   "id": "18406e12",
   "metadata": {
    "ExecuteTime": {
     "end_time": "2021-10-14T10:05:41.082273Z",
     "start_time": "2021-10-14T10:05:41.069633Z"
    }
   },
   "outputs": [
    {
     "data": {
      "text/html": [
       "<div>\n",
       "<style scoped>\n",
       "    .dataframe tbody tr th:only-of-type {\n",
       "        vertical-align: middle;\n",
       "    }\n",
       "\n",
       "    .dataframe tbody tr th {\n",
       "        vertical-align: top;\n",
       "    }\n",
       "\n",
       "    .dataframe thead th {\n",
       "        text-align: right;\n",
       "    }\n",
       "</style>\n",
       "<table border=\"1\" class=\"dataframe\">\n",
       "  <thead>\n",
       "    <tr style=\"text-align: right;\">\n",
       "      <th></th>\n",
       "      <th>hash</th>\n",
       "      <th>block_number</th>\n",
       "      <th>n_transaction</th>\n",
       "      <th>timestamp</th>\n",
       "      <th>from</th>\n",
       "      <th>to</th>\n",
       "      <th>status</th>\n",
       "      <th>transferred_value</th>\n",
       "      <th>transferred_number</th>\n",
       "      <th>gas_limit</th>\n",
       "      <th>gas_used</th>\n",
       "      <th>gas_price</th>\n",
       "      <th>can_abi</th>\n",
       "      <th>symbol</th>\n",
       "    </tr>\n",
       "  </thead>\n",
       "  <tbody>\n",
       "    <tr>\n",
       "      <th>165030</th>\n",
       "      <td>0xf7240c6748925a590f9351fbcf9575cfd188d23682c8...</td>\n",
       "      <td>8596486</td>\n",
       "      <td>51</td>\n",
       "      <td>1.633744e+12</td>\n",
       "      <td>0x0000000000a3d531e72fe7bb40a4e7fb033595cd0x00...</td>\n",
       "      <td>0x466d229a514d7cdc0a331c450a1f4767217372770x46...</td>\n",
       "      <td>Success</td>\n",
       "      <td>1419.98</td>\n",
       "      <td>7</td>\n",
       "      <td>580000.0</td>\n",
       "      <td>313421</td>\n",
       "      <td>3618.452057</td>\n",
       "      <td>False</td>\n",
       "      <td>MDX/USDT</td>\n",
       "    </tr>\n",
       "    <tr>\n",
       "      <th>165031</th>\n",
       "      <td>0x4d93c77a2868052dd256e8e637cf098e463ef8aadeac...</td>\n",
       "      <td>8596486</td>\n",
       "      <td>51</td>\n",
       "      <td>1.633744e+12</td>\n",
       "      <td>0xaa3e34c024271c476a979fafc181aadb9d8ecffd0xaa...</td>\n",
       "      <td>0xed7d5f38c79115ca12fe6c0041abb22f0a06c3000xed...</td>\n",
       "      <td>Success</td>\n",
       "      <td>632.82</td>\n",
       "      <td>2</td>\n",
       "      <td>2100000.0</td>\n",
       "      <td>144550</td>\n",
       "      <td>41.000000</td>\n",
       "      <td>True</td>\n",
       "      <td>MDX/BCH</td>\n",
       "    </tr>\n",
       "    <tr>\n",
       "      <th>165032</th>\n",
       "      <td>0x290ae793cb02fa394a958dc9c889c3046c68f30898c0...</td>\n",
       "      <td>8596486</td>\n",
       "      <td>51</td>\n",
       "      <td>1.633744e+12</td>\n",
       "      <td>0x67108e315c95e345e02f741e95a904a62449b7c10x67...</td>\n",
       "      <td>0x2979f9c20f75891070f23f950700906551a560c60x29...</td>\n",
       "      <td>Success</td>\n",
       "      <td>678.85</td>\n",
       "      <td>3</td>\n",
       "      <td>380000.0</td>\n",
       "      <td>267348</td>\n",
       "      <td>11.999000</td>\n",
       "      <td>False</td>\n",
       "      <td>MDX/ETH</td>\n",
       "    </tr>\n",
       "    <tr>\n",
       "      <th>165033</th>\n",
       "      <td>0xd6d4e6c58ff92b5afd47c7f15ffad51096d5baf08dc4...</td>\n",
       "      <td>8596486</td>\n",
       "      <td>51</td>\n",
       "      <td>1.633744e+12</td>\n",
       "      <td>0xaccb69ec37083a13498ae673665c4dba4aef9a100xac...</td>\n",
       "      <td>0x92b3420a31250c62d019c530de4683676108a0950x92...</td>\n",
       "      <td>Success</td>\n",
       "      <td>1434.22</td>\n",
       "      <td>22</td>\n",
       "      <td>2860000.0</td>\n",
       "      <td>1057826</td>\n",
       "      <td>7.662765</td>\n",
       "      <td>False</td>\n",
       "      <td>MDX/USDT</td>\n",
       "    </tr>\n",
       "  </tbody>\n",
       "</table>\n",
       "</div>"
      ],
      "text/plain": [
       "                                                     hash  block_number  \\\n",
       "165030  0xf7240c6748925a590f9351fbcf9575cfd188d23682c8...       8596486   \n",
       "165031  0x4d93c77a2868052dd256e8e637cf098e463ef8aadeac...       8596486   \n",
       "165032  0x290ae793cb02fa394a958dc9c889c3046c68f30898c0...       8596486   \n",
       "165033  0xd6d4e6c58ff92b5afd47c7f15ffad51096d5baf08dc4...       8596486   \n",
       "\n",
       "        n_transaction     timestamp  \\\n",
       "165030             51  1.633744e+12   \n",
       "165031             51  1.633744e+12   \n",
       "165032             51  1.633744e+12   \n",
       "165033             51  1.633744e+12   \n",
       "\n",
       "                                                     from  \\\n",
       "165030  0x0000000000a3d531e72fe7bb40a4e7fb033595cd0x00...   \n",
       "165031  0xaa3e34c024271c476a979fafc181aadb9d8ecffd0xaa...   \n",
       "165032  0x67108e315c95e345e02f741e95a904a62449b7c10x67...   \n",
       "165033  0xaccb69ec37083a13498ae673665c4dba4aef9a100xac...   \n",
       "\n",
       "                                                       to   status  \\\n",
       "165030  0x466d229a514d7cdc0a331c450a1f4767217372770x46...  Success   \n",
       "165031  0xed7d5f38c79115ca12fe6c0041abb22f0a06c3000xed...  Success   \n",
       "165032  0x2979f9c20f75891070f23f950700906551a560c60x29...  Success   \n",
       "165033  0x92b3420a31250c62d019c530de4683676108a0950x92...  Success   \n",
       "\n",
       "        transferred_value  transferred_number  gas_limit  gas_used  \\\n",
       "165030            1419.98                   7   580000.0    313421   \n",
       "165031             632.82                   2  2100000.0    144550   \n",
       "165032             678.85                   3   380000.0    267348   \n",
       "165033            1434.22                  22  2860000.0   1057826   \n",
       "\n",
       "          gas_price  can_abi    symbol  \n",
       "165030  3618.452057    False  MDX/USDT  \n",
       "165031    41.000000     True   MDX/BCH  \n",
       "165032    11.999000    False   MDX/ETH  \n",
       "165033     7.662765    False  MDX/USDT  "
      ]
     },
     "execution_count": 10,
     "metadata": {},
     "output_type": "execute_result"
    }
   ],
   "source": [
    "df[df.block_number==8596486].iloc[0]"
   ]
  },
  {
   "cell_type": "code",
   "execution_count": 16,
   "id": "2493a56b",
   "metadata": {
    "ExecuteTime": {
     "end_time": "2021-10-14T10:07:15.375725Z",
     "start_time": "2021-10-14T10:07:15.351158Z"
    }
   },
   "outputs": [
    {
     "data": {
      "text/plain": [
       "65055"
      ]
     },
     "execution_count": 16,
     "metadata": {},
     "output_type": "execute_result"
    }
   ],
   "source": [
    "len(set(df.block_number))"
   ]
  },
  {
   "cell_type": "code",
   "execution_count": 3,
   "id": "22750cce",
   "metadata": {
    "ExecuteTime": {
     "end_time": "2021-10-14T10:04:16.329112Z",
     "start_time": "2021-10-14T10:04:16.309021Z"
    }
   },
   "outputs": [
    {
     "data": {
      "text/plain": [
       "Success    248811\n",
       "Name: status, dtype: int64"
      ]
     },
     "execution_count": 3,
     "metadata": {},
     "output_type": "execute_result"
    }
   ],
   "source": [
    "df.status.value_counts()"
   ]
  }
 ],
 "metadata": {
  "kernelspec": {
   "display_name": "Python 3",
   "language": "python",
   "name": "python3"
  },
  "language_info": {
   "codemirror_mode": {
    "name": "ipython",
    "version": 3
   },
   "file_extension": ".py",
   "mimetype": "text/x-python",
   "name": "python",
   "nbconvert_exporter": "python",
   "pygments_lexer": "ipython3",
   "version": "3.8.8"
  },
  "varInspector": {
   "cols": {
    "lenName": 16,
    "lenType": 16,
    "lenVar": 40
   },
   "kernels_config": {
    "python": {
     "delete_cmd_postfix": "",
     "delete_cmd_prefix": "del ",
     "library": "var_list.py",
     "varRefreshCmd": "print(var_dic_list())"
    },
    "r": {
     "delete_cmd_postfix": ") ",
     "delete_cmd_prefix": "rm(",
     "library": "var_list.r",
     "varRefreshCmd": "cat(var_dic_list()) "
    }
   },
   "types_to_exclude": [
    "module",
    "function",
    "builtin_function_or_method",
    "instance",
    "_Feature"
   ],
   "window_display": false
  }
 },
 "nbformat": 4,
 "nbformat_minor": 5
}
